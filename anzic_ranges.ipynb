{
 "cells": [
  {
   "cell_type": "code",
   "execution_count": 1,
   "metadata": {},
   "outputs": [],
   "source": [
    "import requests\n",
    "import pandas as pd\n",
    "from sudulunu.helpers import dumper, pp "
   ]
  },
  {
   "cell_type": "code",
   "execution_count": 2,
   "metadata": {},
   "outputs": [],
   "source": [
    "yello = 'https://www.abs.gov.au/statistics/classifications/australian-and-new-zealand-standard-industrial-classification-anzsic/2006-revision-2-0/numbering-system-and-titles#numbering-system'\n",
    "\n",
    "r = requests.get(yello)"
   ]
  },
  {
   "cell_type": "code",
   "execution_count": 3,
   "metadata": {},
   "outputs": [
    {
     "name": "stdout",
     "output_type": "stream",
     "text": [
      "[         Level                                  Example\n",
      "0     Division                          C Manufacturing\n",
      "1  Subdivision            11 Food Product Manufacturing\n",
      "2        Group  111 Meat and Meat Product Manufacturing\n",
      "3        Class                     1111 Meat Processing,    Unnamed: 0                                ANZSIC06 Division Code Range  \\\n",
      "0           A                Agriculture, Forestry and Fishing  0100-0599   \n",
      "1           B                                           Mining  0600-1099   \n",
      "2           C                                    Manufacturing  1100-2599   \n",
      "3           D       Electricity, Gas, Water and Waste Services  2600-2999   \n",
      "4           E                                     Construction  3000-3299   \n",
      "5           F                                  Wholesale Trade  3300-3899   \n",
      "6           G                                     Retail Trade  3900-4399   \n",
      "7           H                  Accommodation and Food Services  4400-4599   \n",
      "8           I                Transport, Postal and Warehousing  4600-5399   \n",
      "9           J         Information Media and Telecommunications  5400-6099   \n",
      "10          K                 Financial and Insurance Services  6200-6499   \n",
      "11          L          Rental, Hiring and Real Estate Services  6600-6799   \n",
      "12          M  Professional, Scientific and Technical Services  6900-7099   \n",
      "13          N              Administrative and Support Services  7200-7399   \n",
      "14          O                 Public Administration and Safety  7500-7799   \n",
      "15          P                           Education and Training  8000-8299   \n",
      "16          Q                Health Care and Social Assistance  8400-8799   \n",
      "17          R                     Arts and Recreation Services  8900-9299   \n",
      "18          S                                   Other Services  9400-9699   \n",
      "\n",
      "   Unnamed: 3                      ANZSIC93 Division Code Range.1  \n",
      "0           A      Agriculture, Forestry and Fishing    0100-0499  \n",
      "1           B                                 Mining    1100-1599  \n",
      "2           C                          Manufacturing    2100-2999  \n",
      "3           D      Electricity, Gas and Water Supply    3600-3799  \n",
      "4           E                           Construction    4100-4299  \n",
      "5           F                        Wholesale Trade    4500-4799  \n",
      "6           G                           Retail Trade    5100-5399  \n",
      "7           H   Accommodation, Cafes and Restaurants    5700-5799  \n",
      "8           I                  Transport and Storage    6100-6799  \n",
      "9           J                 Communication Services    7100-7199  \n",
      "10          K                  Finance and Insurance    7300-7599  \n",
      "11          L         Property and Business Services    7700-7899  \n",
      "12        NaN                                    NaN          NaN  \n",
      "13        NaN                                    NaN          NaN  \n",
      "14          M  Government Administration and Defence    8100-8299  \n",
      "15          N                              Education    8400-8499  \n",
      "16          O          Health and Community Services    8600-8799  \n",
      "17          P     Cultural and Recreational Services    9100-9399  \n",
      "18          Q            Personal and Other Services    9500-9799  ]\n",
      "2\n"
     ]
    }
   ],
   "source": [
    "tabs = pd.read_html(r.text)\n",
    "\n",
    "print(tabs)\n",
    "print(len(tabs))"
   ]
  },
  {
   "cell_type": "code",
   "execution_count": 9,
   "metadata": {},
   "outputs": [
    {
     "name": "stdout",
     "output_type": "stream",
     "text": [
      "{'Agriculture, Forestry and Fishing': {'Lower': '0100', 'Upper': '0599'}, 'Mining': {'Lower': '0600', 'Upper': '1099'}, 'Manufacturing': {'Lower': '1100', 'Upper': '2599'}, 'Electricity, Gas, Water and Waste Services': {'Lower': '2600', 'Upper': '2999'}, 'Construction': {'Lower': '3000', 'Upper': '3299'}, 'Wholesale Trade': {'Lower': '3300', 'Upper': '3899'}, 'Retail Trade': {'Lower': '3900', 'Upper': '4399'}, 'Accommodation and Food Services': {'Lower': '4400', 'Upper': '4599'}, 'Transport, Postal and Warehousing': {'Lower': '4600', 'Upper': '5399'}, 'Information Media and Telecommunications': {'Lower': '5400', 'Upper': '6099'}, 'Financial and Insurance Services': {'Lower': '6200', 'Upper': '6499'}, 'Rental, Hiring and Real Estate Services': {'Lower': '6600', 'Upper': '6799'}, 'Professional, Scientific and Technical Services': {'Lower': '6900', 'Upper': '7099'}, 'Administrative and Support Services': {'Lower': '7200', 'Upper': '7399'}, 'Public Administration and Safety': {'Lower': '7500', 'Upper': '7799'}, 'Education and Training': {'Lower': '8000', 'Upper': '8299'}, 'Health Care and Social Assistance': {'Lower': '8400', 'Upper': '8799'}, 'Arts and Recreation Services': {'Lower': '8900', 'Upper': '9299'}, 'Other Services': {'Lower': '9400', 'Upper': '9699'}}\n"
     ]
    },
    {
     "name": "stderr",
     "output_type": "stream",
     "text": [
      "/var/folders/1h/4w391kn52y51w5mmd37_xfn80000gq/T/ipykernel_73095/3925797459.py:6: SettingWithCopyWarning: \n",
      "A value is trying to be set on a copy of a slice from a DataFrame.\n",
      "Try using .loc[row_indexer,col_indexer] = value instead\n",
      "\n",
      "See the caveats in the documentation: https://pandas.pydata.org/pandas-docs/stable/user_guide/indexing.html#returning-a-view-versus-a-copy\n",
      "  tab['Lower'] = tab['Code Range'].str.split(\"-\").str[0]\n",
      "/var/folders/1h/4w391kn52y51w5mmd37_xfn80000gq/T/ipykernel_73095/3925797459.py:7: SettingWithCopyWarning: \n",
      "A value is trying to be set on a copy of a slice from a DataFrame.\n",
      "Try using .loc[row_indexer,col_indexer] = value instead\n",
      "\n",
      "See the caveats in the documentation: https://pandas.pydata.org/pandas-docs/stable/user_guide/indexing.html#returning-a-view-versus-a-copy\n",
      "  tab['Upper'] = tab['Code Range'].str.split(\"-\").str[1]\n"
     ]
    }
   ],
   "source": [
    "tab = tabs[1]\n",
    "\n",
    "dicto = {}\n",
    "\n",
    "tab = tab[['ANZSIC06 Division', 'Code Range']]\n",
    "tab['Lower'] = tab['Code Range'].str.split(\"-\").str[0]\n",
    "tab['Upper'] = tab['Code Range'].str.split(\"-\").str[1]\n",
    "\n",
    "for index,row in tab.iterrows():\n",
    "    div = row['ANZSIC06 Division']\n",
    "    lower = row['Lower']\n",
    "    upper = row['Upper']\n",
    "\n",
    "    dicto[div] = {\"Lower\": lower, \"Upper\": upper}\n",
    "\n",
    "print(dicto)"
   ]
  }
 ],
 "metadata": {
  "kernelspec": {
   "display_name": "env",
   "language": "python",
   "name": "python3"
  },
  "language_info": {
   "codemirror_mode": {
    "name": "ipython",
    "version": 3
   },
   "file_extension": ".py",
   "mimetype": "text/x-python",
   "name": "python",
   "nbconvert_exporter": "python",
   "pygments_lexer": "ipython3",
   "version": "3.11.0"
  },
  "orig_nbformat": 4,
  "vscode": {
   "interpreter": {
    "hash": "acd9471eeeb599ddef242e34af0f060bb6073bd71e890aac9ed9c7c877685768"
   }
  }
 },
 "nbformat": 4,
 "nbformat_minor": 2
}
